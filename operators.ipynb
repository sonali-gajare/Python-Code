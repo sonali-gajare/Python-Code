{
 "cells": [
  {
   "cell_type": "code",
   "execution_count": null,
   "id": "e7f29e10-2686-4954-bdc9-abc0eb9e6b06",
   "metadata": {},
   "outputs": [],
   "source": [
    "#comparision operator"
   ]
  },
  {
   "cell_type": "code",
   "execution_count": 1,
   "id": "297c5f64-08ca-4784-8743-7acba0d2df0d",
   "metadata": {},
   "outputs": [
    {
     "data": {
      "text/plain": [
       "True"
      ]
     },
     "execution_count": 1,
     "metadata": {},
     "output_type": "execute_result"
    }
   ],
   "source": [
    "10==10"
   ]
  },
  {
   "cell_type": "code",
   "execution_count": 2,
   "id": "277b834d-39b8-4cf4-9088-6488c2b7e359",
   "metadata": {},
   "outputs": [
    {
     "data": {
      "text/plain": [
       "True"
      ]
     },
     "execution_count": 2,
     "metadata": {},
     "output_type": "execute_result"
    }
   ],
   "source": [
    "10!=50"
   ]
  },
  {
   "cell_type": "code",
   "execution_count": 3,
   "id": "963b144d-094a-408b-8107-87d67fd8a31b",
   "metadata": {},
   "outputs": [
    {
     "data": {
      "text/plain": [
       "False"
      ]
     },
     "execution_count": 3,
     "metadata": {},
     "output_type": "execute_result"
    }
   ],
   "source": [
    "'sonali'=='Sonali'"
   ]
  },
  {
   "cell_type": "code",
   "execution_count": 4,
   "id": "c389830b-6657-4ca0-89c2-4a6037ad308c",
   "metadata": {},
   "outputs": [
    {
     "data": {
      "text/plain": [
       "True"
      ]
     },
     "execution_count": 4,
     "metadata": {},
     "output_type": "execute_result"
    }
   ],
   "source": [
    "'sonali' == 'sonali'"
   ]
  },
  {
   "cell_type": "code",
   "execution_count": 5,
   "id": "8f558190-8234-4c90-a35d-ff83a9b93576",
   "metadata": {},
   "outputs": [
    {
     "data": {
      "text/plain": [
       "True"
      ]
     },
     "execution_count": 5,
     "metadata": {},
     "output_type": "execute_result"
    }
   ],
   "source": [
    "x='five'\n",
    "y='fifty'\n",
    "x!=y"
   ]
  },
  {
   "cell_type": "code",
   "execution_count": null,
   "id": "4c3f4865-605f-4637-9eef-589fc373baa3",
   "metadata": {},
   "outputs": [],
   "source": [
    "# logical Operator"
   ]
  },
  {
   "cell_type": "code",
   "execution_count": 8,
   "id": "5251ee2e-bc0a-485a-b192-11fdabec688c",
   "metadata": {},
   "outputs": [
    {
     "data": {
      "text/plain": [
       "False"
      ]
     },
     "execution_count": 8,
     "metadata": {},
     "output_type": "execute_result"
    }
   ],
   "source": [
    "(50>70) and (40<100)"
   ]
  },
  {
   "cell_type": "code",
   "execution_count": 9,
   "id": "791002d3-f52b-4e2a-95a9-97b7bd9b3611",
   "metadata": {},
   "outputs": [
    {
     "data": {
      "text/plain": [
       "True"
      ]
     },
     "execution_count": 9,
     "metadata": {},
     "output_type": "execute_result"
    }
   ],
   "source": [
    "(50>70) or (40<100)"
   ]
  },
  {
   "cell_type": "code",
   "execution_count": 10,
   "id": "79528972-cc9e-440f-ac53-e19b8f808a8e",
   "metadata": {},
   "outputs": [
    {
     "data": {
      "text/plain": [
       "True"
      ]
     },
     "execution_count": 10,
     "metadata": {},
     "output_type": "execute_result"
    }
   ],
   "source": [
    "('vanilla' > 'chocolate') and (50 > 10)"
   ]
  },
  {
   "cell_type": "code",
   "execution_count": 11,
   "id": "71683028-7925-4f49-a4ab-eaeb4ed43c22",
   "metadata": {},
   "outputs": [
    {
     "data": {
      "text/plain": [
       "False"
      ]
     },
     "execution_count": 11,
     "metadata": {},
     "output_type": "execute_result"
    }
   ],
   "source": [
    "not(50 > 10)"
   ]
  },
  {
   "cell_type": "code",
   "execution_count": null,
   "id": "26855a71-1abe-43c4-95dd-9efdc81c7489",
   "metadata": {},
   "outputs": [],
   "source": [
    "#Membership operator"
   ]
  },
  {
   "cell_type": "code",
   "execution_count": 13,
   "id": "7d5c8c1a-b470-475f-8d49-e8945dbc9f5e",
   "metadata": {},
   "outputs": [
    {
     "data": {
      "text/plain": [
       "True"
      ]
     },
     "execution_count": 13,
     "metadata": {},
     "output_type": "execute_result"
    }
   ],
   "source": [
    "ice_cream = 'I love ice cream'\n",
    "'love' in 'love cream'"
   ]
  },
  {
   "cell_type": "code",
   "execution_count": 14,
   "id": "e25b3b7e-229e-46b0-b8ae-49314f5a4f6e",
   "metadata": {},
   "outputs": [
    {
     "data": {
      "text/plain": [
       "True"
      ]
     },
     "execution_count": 14,
     "metadata": {},
     "output_type": "execute_result"
    }
   ],
   "source": [
    "ice_cream = 'I love ice cream'\n",
    "p = 'love'\n",
    "p in ice_cream"
   ]
  },
  {
   "cell_type": "code",
   "execution_count": 17,
   "id": "d00d93b5-ee18-49e8-a1d8-67c16dd2111d",
   "metadata": {},
   "outputs": [
    {
     "data": {
      "text/plain": [
       "True"
      ]
     },
     "execution_count": 17,
     "metadata": {},
     "output_type": "execute_result"
    }
   ],
   "source": [
    "numbers = [1 ,3 ,5,8]\n",
    "scoop = 3\n",
    "scoop in numbers"
   ]
  },
  {
   "cell_type": "code",
   "execution_count": null,
   "id": "7fef092f-d9bd-4169-a1b5-8ebcded96e27",
   "metadata": {},
   "outputs": [],
   "source": []
  }
 ],
 "metadata": {
  "kernelspec": {
   "display_name": "Python [conda env:base] *",
   "language": "python",
   "name": "conda-base-py"
  },
  "language_info": {
   "codemirror_mode": {
    "name": "ipython",
    "version": 3
   },
   "file_extension": ".py",
   "mimetype": "text/x-python",
   "name": "python",
   "nbconvert_exporter": "python",
   "pygments_lexer": "ipython3",
   "version": "3.13.5"
  }
 },
 "nbformat": 4,
 "nbformat_minor": 5
}
