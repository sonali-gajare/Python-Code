{
 "cells": [
  {
   "cell_type": "code",
   "execution_count": 4,
   "id": "93cb2e5f-ddb9-4a07-a449-b50c834edff8",
   "metadata": {},
   "outputs": [],
   "source": [
    "def first_function():\n",
    "    print('this is first function')"
   ]
  },
  {
   "cell_type": "code",
   "execution_count": 5,
   "id": "8261e760-9f31-4cc5-be35-3e217753f9cd",
   "metadata": {},
   "outputs": [
    {
     "name": "stdout",
     "output_type": "stream",
     "text": [
      "this is first function\n"
     ]
    }
   ],
   "source": [
    "first_function()"
   ]
  },
  {
   "cell_type": "code",
   "execution_count": 10,
   "id": "350fb042-f0ad-41d5-9de6-ce56d9a5cdef",
   "metadata": {},
   "outputs": [],
   "source": [
    "def num_squared(number):\n",
    "    print(number**2)"
   ]
  },
  {
   "cell_type": "code",
   "execution_count": 12,
   "id": "56d0acb3-0c5d-4d98-858d-769e6e4d896a",
   "metadata": {},
   "outputs": [
    {
     "name": "stdout",
     "output_type": "stream",
     "text": [
      "16\n"
     ]
    }
   ],
   "source": [
    "num_squared(4)"
   ]
  },
  {
   "cell_type": "code",
   "execution_count": 15,
   "id": "605eed4a-1c89-4714-a26e-4cc57351665c",
   "metadata": {},
   "outputs": [],
   "source": [
    "def num_squared_cust(number,power):\n",
    "    print(number**power)"
   ]
  },
  {
   "cell_type": "code",
   "execution_count": 17,
   "id": "9cf5c271-762f-4131-ae60-64f89cdf5fc9",
   "metadata": {},
   "outputs": [
    {
     "name": "stdout",
     "output_type": "stream",
     "text": [
      "25\n"
     ]
    }
   ],
   "source": [
    "num_squared_cust(5,2)"
   ]
  },
  {
   "cell_type": "code",
   "execution_count": 18,
   "id": "c360fd87-1a74-403a-b5ea-1618c91b5074",
   "metadata": {},
   "outputs": [],
   "source": [
    "def num_squared_cust(number,power):\n",
    "    print(number**power)"
   ]
  },
  {
   "cell_type": "code",
   "execution_count": 19,
   "id": "1fa9e4cf-3633-4695-b678-e30154f8e502",
   "metadata": {},
   "outputs": [
    {
     "name": "stdout",
     "output_type": "stream",
     "text": [
      "25\n"
     ]
    }
   ],
   "source": [
    "num_squared_cust(power=2,number=5)"
   ]
  },
  {
   "cell_type": "code",
   "execution_count": 20,
   "id": "d944f7e4-14b1-4530-87bb-3371a8d403e1",
   "metadata": {},
   "outputs": [],
   "source": [
    "def number_kwarg(**number):\n",
    "    print('My number is: ' + number['integer'] + 'My other number: ' + number['integer2'])"
   ]
  },
  {
   "cell_type": "code",
   "execution_count": 21,
   "id": "a3ac57bf-1c0b-438b-a87e-1c91518706de",
   "metadata": {},
   "outputs": [
    {
     "name": "stdout",
     "output_type": "stream",
     "text": [
      "My number is: 2309My other number: 349\n"
     ]
    }
   ],
   "source": [
    "number_kwarg(integer = '2309', integer2 = '349')"
   ]
  },
  {
   "cell_type": "code",
   "execution_count": null,
   "id": "cb097e54-6d54-4a10-aac8-f932c431a705",
   "metadata": {},
   "outputs": [],
   "source": []
  }
 ],
 "metadata": {
  "kernelspec": {
   "display_name": "Python [conda env:base] *",
   "language": "python",
   "name": "conda-base-py"
  },
  "language_info": {
   "codemirror_mode": {
    "name": "ipython",
    "version": 3
   },
   "file_extension": ".py",
   "mimetype": "text/x-python",
   "name": "python",
   "nbconvert_exporter": "python",
   "pygments_lexer": "ipython3",
   "version": "3.13.5"
  }
 },
 "nbformat": 4,
 "nbformat_minor": 5
}
