{
 "cells": [
  {
   "cell_type": "code",
   "execution_count": 1,
   "id": "5acf0c38-2446-499c-bf12-ff21c946dd78",
   "metadata": {},
   "outputs": [
    {
     "data": {
      "text/plain": [
       "int"
      ]
     },
     "execution_count": 1,
     "metadata": {},
     "output_type": "execute_result"
    }
   ],
   "source": [
    "type(12)"
   ]
  },
  {
   "cell_type": "code",
   "execution_count": 2,
   "id": "3917f557-9d57-4daa-94c5-6e14bda6b471",
   "metadata": {},
   "outputs": [
    {
     "data": {
      "text/plain": [
       "int"
      ]
     },
     "execution_count": 2,
     "metadata": {},
     "output_type": "execute_result"
    }
   ],
   "source": [
    "type(-12)"
   ]
  },
  {
   "cell_type": "code",
   "execution_count": 3,
   "id": "51b4786a-9117-4572-9aca-e260e8a94240",
   "metadata": {},
   "outputs": [
    {
     "data": {
      "text/plain": [
       "int"
      ]
     },
     "execution_count": 3,
     "metadata": {},
     "output_type": "execute_result"
    }
   ],
   "source": [
    "type(-12 + 100 -50)"
   ]
  },
  {
   "cell_type": "code",
   "execution_count": 4,
   "id": "67140ce5-c1a8-4a35-b453-f752765158f0",
   "metadata": {},
   "outputs": [
    {
     "data": {
      "text/plain": [
       "float"
      ]
     },
     "execution_count": 4,
     "metadata": {},
     "output_type": "execute_result"
    }
   ],
   "source": [
    "type(12 + 100.50)"
   ]
  },
  {
   "cell_type": "code",
   "execution_count": 6,
   "id": "07191da3-9a6a-4116-b7b0-fb9dfcc5ed13",
   "metadata": {},
   "outputs": [
    {
     "data": {
      "text/plain": [
       "complex"
      ]
     },
     "execution_count": 6,
     "metadata": {},
     "output_type": "execute_result"
    }
   ],
   "source": [
    "type(12 + 3j)"
   ]
  },
  {
   "cell_type": "code",
   "execution_count": 7,
   "id": "3b0f8052-3b7f-40a8-b154-dee788fbafb9",
   "metadata": {},
   "outputs": [
    {
     "data": {
      "text/plain": [
       "bool"
      ]
     },
     "execution_count": 7,
     "metadata": {},
     "output_type": "execute_result"
    }
   ],
   "source": [
    "type(5<1)"
   ]
  },
  {
   "cell_type": "code",
   "execution_count": 9,
   "id": "5942973a-b5c0-47fe-aaac-72eae6c6e921",
   "metadata": {},
   "outputs": [
    {
     "data": {
      "text/plain": [
       "bool"
      ]
     },
     "execution_count": 9,
     "metadata": {},
     "output_type": "execute_result"
    }
   ],
   "source": [
    "type(1==1)"
   ]
  },
  {
   "cell_type": "code",
   "execution_count": 10,
   "id": "ecac0970-3615-4299-8d35-0f68910a73f9",
   "metadata": {},
   "outputs": [
    {
     "data": {
      "text/plain": [
       "True"
      ]
     },
     "execution_count": 10,
     "metadata": {},
     "output_type": "execute_result"
    }
   ],
   "source": [
    "1 == 1"
   ]
  },
  {
   "cell_type": "code",
   "execution_count": 11,
   "id": "63b62ce4-3eb1-4469-a27d-869e9b0afb37",
   "metadata": {},
   "outputs": [
    {
     "data": {
      "text/plain": [
       "'single quotes'"
      ]
     },
     "execution_count": 11,
     "metadata": {},
     "output_type": "execute_result"
    }
   ],
   "source": [
    "'single quotes'"
   ]
  },
  {
   "cell_type": "code",
   "execution_count": 12,
   "id": "396ca17d-6a14-4952-9508-8640ddfc8496",
   "metadata": {},
   "outputs": [
    {
     "data": {
      "text/plain": [
       "'double quotes'"
      ]
     },
     "execution_count": 12,
     "metadata": {},
     "output_type": "execute_result"
    }
   ],
   "source": [
    "\"double quotes\""
   ]
  },
  {
   "cell_type": "code",
   "execution_count": 15,
   "id": "180f65a7-f4e7-4e5b-b804-a918f51ad016",
   "metadata": {},
   "outputs": [],
   "source": [
    "multiline = \"\"\"\n",
    "The ice cream vanquished\n",
    "my longing for sweets,\n",
    "upon this diet I look away,\n",
    "it no longer exists on this day.\n",
    "\n",
    "\"\"\""
   ]
  },
  {
   "cell_type": "code",
   "execution_count": 16,
   "id": "272fd7c8-90d5-4427-a0cd-f7a5e976ce95",
   "metadata": {},
   "outputs": [
    {
     "name": "stdout",
     "output_type": "stream",
     "text": [
      "\n",
      "The ice cream vanquished\n",
      "my longing for sweets,\n",
      "upon this diet I look away,\n",
      "it no longer exists on this day.\n",
      "\n",
      "\n"
     ]
    }
   ],
   "source": [
    "print(multiline)"
   ]
  },
  {
   "cell_type": "code",
   "execution_count": 17,
   "id": "2c4720db-ea8a-4811-9fc7-9d0e792ccf90",
   "metadata": {},
   "outputs": [],
   "source": [
    "multiline = \"\"\"\n",
    "nature is beautiful\n",
    "\"\"\""
   ]
  },
  {
   "cell_type": "code",
   "execution_count": 18,
   "id": "d7d81f36-cdb1-4fd5-8cee-5899b4614e2e",
   "metadata": {},
   "outputs": [
    {
     "data": {
      "text/plain": [
       "str"
      ]
     },
     "execution_count": 18,
     "metadata": {},
     "output_type": "execute_result"
    }
   ],
   "source": [
    "type(multiline)"
   ]
  },
  {
   "cell_type": "code",
   "execution_count": 20,
   "id": "447f2a0d-b477-4ed4-ac30-a73b226e0353",
   "metadata": {},
   "outputs": [],
   "source": [
    "a = 'hello world'"
   ]
  },
  {
   "cell_type": "code",
   "execution_count": 21,
   "id": "a7c57e13-dce1-4a7b-a66a-07a8a5effae8",
   "metadata": {},
   "outputs": [
    {
     "name": "stdout",
     "output_type": "stream",
     "text": [
      "llo\n"
     ]
    }
   ],
   "source": [
    "print(a[2:5])"
   ]
  },
  {
   "cell_type": "code",
   "execution_count": 22,
   "id": "89af2537-a7bc-4cdb-8f35-0b8ad5829247",
   "metadata": {},
   "outputs": [
    {
     "ename": "TypeError",
     "evalue": "can't multiply sequence by non-int of type 'str'",
     "output_type": "error",
     "traceback": [
      "\u001b[0;31m---------------------------------------------------------------------------\u001b[0m",
      "\u001b[0;31mTypeError\u001b[0m                                 Traceback (most recent call last)",
      "Cell \u001b[0;32mIn[22], line 1\u001b[0m\n\u001b[0;32m----> 1\u001b[0m \u001b[38;5;28mprint\u001b[39m(a \u001b[38;5;241m*\u001b[39m a)\n",
      "\u001b[0;31mTypeError\u001b[0m: can't multiply sequence by non-int of type 'str'"
     ]
    }
   ],
   "source": [
    "print(a * a)"
   ]
  },
  {
   "cell_type": "code",
   "execution_count": 23,
   "id": "3f754b2f-6edc-4811-ba6d-1f11868c8421",
   "metadata": {},
   "outputs": [
    {
     "data": {
      "text/plain": [
       "'hello worldhello worldhello world'"
      ]
     },
     "execution_count": 23,
     "metadata": {},
     "output_type": "execute_result"
    }
   ],
   "source": [
    "a * 3"
   ]
  },
  {
   "cell_type": "code",
   "execution_count": 24,
   "id": "e475af54-f4a7-4b7a-b7eb-e222ef5650d8",
   "metadata": {},
   "outputs": [
    {
     "data": {
      "text/plain": [
       "'hello worldhello world'"
      ]
     },
     "execution_count": 24,
     "metadata": {},
     "output_type": "execute_result"
    }
   ],
   "source": [
    "a + a"
   ]
  },
  {
   "cell_type": "code",
   "execution_count": 25,
   "id": "809e067f-16ea-418c-97d6-0c92b19100c5",
   "metadata": {},
   "outputs": [
    {
     "data": {
      "text/plain": [
       "[1, 2, 3]"
      ]
     },
     "execution_count": 25,
     "metadata": {},
     "output_type": "execute_result"
    }
   ],
   "source": [
    "# list\n",
    "[1,2,3]"
   ]
  },
  {
   "cell_type": "code",
   "execution_count": 26,
   "id": "9074c0b8-ad67-412f-b1dd-96ce70934230",
   "metadata": {},
   "outputs": [
    {
     "data": {
      "text/plain": [
       "['Cookie Dough', 'Strawberry', 'Chocolate']"
      ]
     },
     "execution_count": 26,
     "metadata": {},
     "output_type": "execute_result"
    }
   ],
   "source": [
    "['Cookie Dough','Strawberry','Chocolate']"
   ]
  },
  {
   "cell_type": "code",
   "execution_count": 27,
   "id": "7e8b28e5-d6e3-4c79-a40e-62b0bf172fcb",
   "metadata": {},
   "outputs": [
    {
     "data": {
      "text/plain": [
       "['Vanilla', 3, ['Scoops', 'Spoon'], True]"
      ]
     },
     "execution_count": 27,
     "metadata": {},
     "output_type": "execute_result"
    }
   ],
   "source": [
    "['Vanilla', 3, ['Scoops','Spoon'],True]"
   ]
  },
  {
   "cell_type": "code",
   "execution_count": 42,
   "id": "f3ffd26d-251c-46d5-9ebb-1ad90f7a8ccf",
   "metadata": {},
   "outputs": [
    {
     "data": {
      "text/plain": [
       "list"
      ]
     },
     "execution_count": 42,
     "metadata": {},
     "output_type": "execute_result"
    }
   ],
   "source": [
    "ice_cream = ['Cookie Dough','Strawberry','Chocolate']\n",
    "ice_cream.append('vanilla')\n",
    "ice_cream\n",
    "type(ice_cream)"
   ]
  },
  {
   "cell_type": "code",
   "execution_count": 33,
   "id": "10581399-476f-4678-8c6a-dcc3b5fd0750",
   "metadata": {},
   "outputs": [
    {
     "data": {
      "text/plain": [
       "['pista', 'Strawberry', 'Chocolate', 'vanilla']"
      ]
     },
     "execution_count": 33,
     "metadata": {},
     "output_type": "execute_result"
    }
   ],
   "source": [
    "ice_cream[0] = 'pista'\n",
    "ice_cream"
   ]
  },
  {
   "cell_type": "code",
   "execution_count": 35,
   "id": "fd6826bb-e6ad-4e1d-91d8-68bff0044efa",
   "metadata": {},
   "outputs": [
    {
     "data": {
      "text/plain": [
       "['dog', 'cat', ['snake', 'mouse', 'parrot'], True]"
      ]
     },
     "execution_count": 35,
     "metadata": {},
     "output_type": "execute_result"
    }
   ],
   "source": [
    "nest_list = ['dog','cat',['snake','mouse','parrot'],True]\n",
    "nest_list"
   ]
  },
  {
   "cell_type": "code",
   "execution_count": 36,
   "id": "5c01fdb1-d434-4ac2-9486-b49e7a942607",
   "metadata": {},
   "outputs": [
    {
     "data": {
      "text/plain": [
       "'parrot'"
      ]
     },
     "execution_count": 36,
     "metadata": {},
     "output_type": "execute_result"
    }
   ],
   "source": [
    "nest_list[2][2]"
   ]
  },
  {
   "cell_type": "code",
   "execution_count": 37,
   "id": "33296c9b-da3b-4286-a93d-13b952f01d0e",
   "metadata": {},
   "outputs": [
    {
     "data": {
      "text/plain": [
       "'snake'"
      ]
     },
     "execution_count": 37,
     "metadata": {},
     "output_type": "execute_result"
    }
   ],
   "source": [
    "nest_list[2][0]"
   ]
  },
  {
   "cell_type": "code",
   "execution_count": 38,
   "id": "8343fabb-7f6f-4298-952c-6baf2636c419",
   "metadata": {},
   "outputs": [
    {
     "data": {
      "text/plain": [
       "tuple"
      ]
     },
     "execution_count": 38,
     "metadata": {},
     "output_type": "execute_result"
    }
   ],
   "source": [
    "# tuple is mutable can not update any value in it like list\n",
    "tuple_scoop =(1,2,3,9,10)\n",
    "type(tuple_scoop)"
   ]
  },
  {
   "cell_type": "code",
   "execution_count": 39,
   "id": "1fa30fc6-292d-4ba1-9d4d-b58d493a7d60",
   "metadata": {},
   "outputs": [
    {
     "data": {
      "text/plain": [
       "2"
      ]
     },
     "execution_count": 39,
     "metadata": {},
     "output_type": "execute_result"
    }
   ],
   "source": [
    "tuple_scoop[1]"
   ]
  },
  {
   "cell_type": "code",
   "execution_count": 40,
   "id": "d59580c4-3527-4ac9-ad86-a529d9787d9d",
   "metadata": {},
   "outputs": [
    {
     "ename": "TypeError",
     "evalue": "'tuple' object does not support item assignment",
     "output_type": "error",
     "traceback": [
      "\u001b[0;31m---------------------------------------------------------------------------\u001b[0m",
      "\u001b[0;31mTypeError\u001b[0m                                 Traceback (most recent call last)",
      "Cell \u001b[0;32mIn[40], line 1\u001b[0m\n\u001b[0;32m----> 1\u001b[0m tuple_scoop[\u001b[38;5;241m2\u001b[39m]\u001b[38;5;241m=\u001b[39m\u001b[38;5;241m5\u001b[39m\n",
      "\u001b[0;31mTypeError\u001b[0m: 'tuple' object does not support item assignment"
     ]
    }
   ],
   "source": [
    "tuple_scoop[2]=5"
   ]
  },
  {
   "cell_type": "code",
   "execution_count": 41,
   "id": "57ea391f-7530-4501-b719-214ae04c4534",
   "metadata": {},
   "outputs": [
    {
     "ename": "AttributeError",
     "evalue": "'tuple' object has no attribute 'append'",
     "output_type": "error",
     "traceback": [
      "\u001b[0;31m---------------------------------------------------------------------------\u001b[0m",
      "\u001b[0;31mAttributeError\u001b[0m                            Traceback (most recent call last)",
      "Cell \u001b[0;32mIn[41], line 1\u001b[0m\n\u001b[0;32m----> 1\u001b[0m tuple_scoop\u001b[38;5;241m.\u001b[39mappend(\u001b[38;5;241m4\u001b[39m)\n",
      "\u001b[0;31mAttributeError\u001b[0m: 'tuple' object has no attribute 'append'"
     ]
    }
   ],
   "source": [
    "tuple_scoop.append(4)"
   ]
  },
  {
   "cell_type": "code",
   "execution_count": 44,
   "id": "37bac567-9e56-408e-a283-a68cdfe3c476",
   "metadata": {},
   "outputs": [
    {
     "data": {
      "text/plain": [
       "{'Chocolate', 'Cookie Dough', 'Strawberry'}"
      ]
     },
     "execution_count": 44,
     "metadata": {},
     "output_type": "execute_result"
    }
   ],
   "source": [
    "ice_cream = {'Cookie Dough','Strawberry','Chocolate'}\n",
    "type(ice_cream)\n",
    "ice_cream"
   ]
  },
  {
   "cell_type": "code",
   "execution_count": 45,
   "id": "4312dee7-dfcf-4be8-955c-d3870c2884dd",
   "metadata": {},
   "outputs": [
    {
     "data": {
      "text/plain": [
       "set"
      ]
     },
     "execution_count": 45,
     "metadata": {},
     "output_type": "execute_result"
    }
   ],
   "source": [
    "# set -unique value\n",
    "daily_count ={ 1,2,3}\n",
    "type(daily_count)"
   ]
  },
  {
   "cell_type": "code",
   "execution_count": 46,
   "id": "fe1a2fbd-9eab-42a3-8747-e4587bd26671",
   "metadata": {},
   "outputs": [
    {
     "data": {
      "text/plain": [
       "{1, 2, 3, 4, 5, 6, 31}"
      ]
     },
     "execution_count": 46,
     "metadata": {},
     "output_type": "execute_result"
    }
   ],
   "source": [
    "daily_pints_log = {1,2,31,2,3,4,1,2,5,6,3,2}\n",
    "daily_pints_log"
   ]
  },
  {
   "cell_type": "code",
   "execution_count": 48,
   "id": "b42b98ca-ba9f-4535-8f1b-137462ef6610",
   "metadata": {},
   "outputs": [
    {
     "data": {
      "text/plain": [
       "{0, 1, 2, 3, 5, 7, 24}"
      ]
     },
     "execution_count": 48,
     "metadata": {},
     "output_type": "execute_result"
    }
   ],
   "source": [
    "friends_daily_pints_log = {1,3,5,7,3,24,5,7,3,2,0}\n",
    "friends_daily_pints_log"
   ]
  },
  {
   "cell_type": "code",
   "execution_count": 49,
   "id": "81f33f08-12f7-4783-adfe-28a7f704754a",
   "metadata": {},
   "outputs": [
    {
     "data": {
      "text/plain": [
       "{0, 1, 2, 3, 4, 5, 6, 7, 24, 31}"
      ]
     },
     "execution_count": 49,
     "metadata": {},
     "output_type": "execute_result"
    }
   ],
   "source": [
    "daily_pints_log | friends_daily_pints_log"
   ]
  },
  {
   "cell_type": "code",
   "execution_count": 50,
   "id": "4aa1fcfb-b690-4e90-a4e3-9cba73b6ee2a",
   "metadata": {},
   "outputs": [
    {
     "data": {
      "text/plain": [
       "{1, 2, 3, 5}"
      ]
     },
     "execution_count": 50,
     "metadata": {},
     "output_type": "execute_result"
    }
   ],
   "source": [
    "daily_pints_log & friends_daily_pints_log"
   ]
  },
  {
   "cell_type": "code",
   "execution_count": 51,
   "id": "b05c98d3-b5d2-4d0b-be65-3e5a1a1de3dc",
   "metadata": {},
   "outputs": [
    {
     "data": {
      "text/plain": [
       "{0, 7, 24}"
      ]
     },
     "execution_count": 51,
     "metadata": {},
     "output_type": "execute_result"
    }
   ],
   "source": [
    "friends_daily_pints_log - daily_pints_log"
   ]
  },
  {
   "cell_type": "code",
   "execution_count": 52,
   "id": "83758fe4-8f79-4b86-950b-e1edd3b96cf1",
   "metadata": {},
   "outputs": [
    {
     "data": {
      "text/plain": [
       "{0, 4, 6, 7, 24, 31}"
      ]
     },
     "execution_count": 52,
     "metadata": {},
     "output_type": "execute_result"
    }
   ],
   "source": [
    "daily_pints_log ^ friends_daily_pints_log"
   ]
  },
  {
   "cell_type": "code",
   "execution_count": 54,
   "id": "cf511bae-26d1-4235-afb9-8e277861277a",
   "metadata": {},
   "outputs": [
    {
     "data": {
      "text/plain": [
       "dict"
      ]
     },
     "execution_count": 54,
     "metadata": {},
     "output_type": "execute_result"
    }
   ],
   "source": [
    "# dictionaries\n",
    "# Key/Value Pair\n",
    "\n",
    "dict_info = {'name':'sonali','hobby':'reading','food':['panipuri','pavbhaji']}\n",
    "type(dict_info)"
   ]
  },
  {
   "cell_type": "code",
   "execution_count": 55,
   "id": "180137f7-055b-4b60-a79c-9d3a4a3b02a9",
   "metadata": {},
   "outputs": [
    {
     "name": "stdout",
     "output_type": "stream",
     "text": [
      "{'name': 'sonali', 'hobby': 'reading', 'food': ['panipuri', 'pavbhaji']}\n"
     ]
    }
   ],
   "source": [
    "print(dict_info)"
   ]
  },
  {
   "cell_type": "code",
   "execution_count": 57,
   "id": "f31c1bf8-28b3-475d-bdcd-89eaffc9c49e",
   "metadata": {},
   "outputs": [
    {
     "data": {
      "text/plain": [
       "dict_values(['sonali', 'reading', ['panipuri', 'pavbhaji']])"
      ]
     },
     "execution_count": 57,
     "metadata": {},
     "output_type": "execute_result"
    }
   ],
   "source": [
    "dict_info.values()"
   ]
  },
  {
   "cell_type": "code",
   "execution_count": 58,
   "id": "1eefbe23-d665-4390-9d47-aa5dac1e4b03",
   "metadata": {},
   "outputs": [
    {
     "data": {
      "text/plain": [
       "dict_keys(['name', 'hobby', 'food'])"
      ]
     },
     "execution_count": 58,
     "metadata": {},
     "output_type": "execute_result"
    }
   ],
   "source": [
    "dict_info.keys()"
   ]
  },
  {
   "cell_type": "code",
   "execution_count": 59,
   "id": "4a9b7027-d8b1-480b-afab-916aa2d6255c",
   "metadata": {},
   "outputs": [
    {
     "data": {
      "text/plain": [
       "dict_items([('name', 'sonali'), ('hobby', 'reading'), ('food', ['panipuri', 'pavbhaji'])])"
      ]
     },
     "execution_count": 59,
     "metadata": {},
     "output_type": "execute_result"
    }
   ],
   "source": [
    "dict_info.items()"
   ]
  },
  {
   "cell_type": "code",
   "execution_count": 61,
   "id": "09c039e7-8701-49d9-ac61-cc64b485d2e8",
   "metadata": {},
   "outputs": [
    {
     "data": {
      "text/plain": [
       "'sonali'"
      ]
     },
     "execution_count": 61,
     "metadata": {},
     "output_type": "execute_result"
    }
   ],
   "source": [
    "dict_info['name']"
   ]
  },
  {
   "cell_type": "code",
   "execution_count": 62,
   "id": "adee00c7-0daa-447c-984e-8b07b0a11093",
   "metadata": {},
   "outputs": [
    {
     "data": {
      "text/plain": [
       "['panipuri', 'pavbhaji']"
      ]
     },
     "execution_count": 62,
     "metadata": {},
     "output_type": "execute_result"
    }
   ],
   "source": [
    "dict_info['food']"
   ]
  },
  {
   "cell_type": "code",
   "execution_count": 63,
   "id": "b707ebd3-cd85-489c-85d1-29c3e4338092",
   "metadata": {},
   "outputs": [],
   "source": [
    "dict_info['food']='gobi manchurian'"
   ]
  },
  {
   "cell_type": "code",
   "execution_count": 64,
   "id": "af8f5d0a-9187-4625-b993-b90f8f16ff1d",
   "metadata": {},
   "outputs": [
    {
     "data": {
      "text/plain": [
       "'gobi manchurian'"
      ]
     },
     "execution_count": 64,
     "metadata": {},
     "output_type": "execute_result"
    }
   ],
   "source": [
    "dict_info['food']"
   ]
  },
  {
   "cell_type": "code",
   "execution_count": 65,
   "id": "a8fe3e53-c262-47f9-9795-86980ae846a0",
   "metadata": {},
   "outputs": [
    {
     "name": "stdout",
     "output_type": "stream",
     "text": [
      "{'name': 'sonali', 'hobby': 'reading', 'food': 'gobi manchurian'}\n"
     ]
    }
   ],
   "source": [
    "print(dict_info)"
   ]
  },
  {
   "cell_type": "code",
   "execution_count": 66,
   "id": "1cc71424-9a34-4115-a890-80c31b26b4b6",
   "metadata": {},
   "outputs": [],
   "source": [
    "dict_info.update({'name':'sona','hobby':'walking','age':'60'})"
   ]
  },
  {
   "cell_type": "code",
   "execution_count": 67,
   "id": "31b6b623-38d7-4b2a-9a9b-0c4798aeafad",
   "metadata": {},
   "outputs": [
    {
     "name": "stdout",
     "output_type": "stream",
     "text": [
      "{'name': 'sona', 'hobby': 'walking', 'food': 'gobi manchurian', 'age': '60'}\n"
     ]
    }
   ],
   "source": [
    "print(dict_info)"
   ]
  },
  {
   "cell_type": "code",
   "execution_count": null,
   "id": "ead845ef-96cf-4028-8404-2b5785dbfc93",
   "metadata": {},
   "outputs": [],
   "source": []
  }
 ],
 "metadata": {
  "kernelspec": {
   "display_name": "Python [conda env:base] *",
   "language": "python",
   "name": "conda-base-py"
  },
  "language_info": {
   "codemirror_mode": {
    "name": "ipython",
    "version": 3
   },
   "file_extension": ".py",
   "mimetype": "text/x-python",
   "name": "python",
   "nbconvert_exporter": "python",
   "pygments_lexer": "ipython3",
   "version": "3.13.5"
  }
 },
 "nbformat": 4,
 "nbformat_minor": 5
}
