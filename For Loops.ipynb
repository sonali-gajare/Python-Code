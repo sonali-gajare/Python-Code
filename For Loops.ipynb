{
 "cells": [
  {
   "cell_type": "code",
   "execution_count": 3,
   "id": "515379d2-0fbb-4d4d-81d9-3f642e5b85ce",
   "metadata": {},
   "outputs": [
    {
     "name": "stdout",
     "output_type": "stream",
     "text": [
      "1\n",
      "2\n",
      "3\n",
      "4\n",
      "5\n"
     ]
    }
   ],
   "source": [
    "integers = [1,2,3,4,5]\n",
    "for number in integers:\n",
    "        print(number)"
   ]
  },
  {
   "cell_type": "code",
   "execution_count": 4,
   "id": "8690307f-3ad2-4de9-850c-9feb814dc56d",
   "metadata": {},
   "outputs": [
    {
     "name": "stdout",
     "output_type": "stream",
     "text": [
      "hi\n",
      "hi\n",
      "hi\n",
      "hi\n",
      "hi\n"
     ]
    }
   ],
   "source": [
    "for word in integers:\n",
    "    print('hi')"
   ]
  },
  {
   "cell_type": "code",
   "execution_count": 5,
   "id": "faa7c91a-60a3-45dc-916b-fe274e4c4cca",
   "metadata": {},
   "outputs": [
    {
     "name": "stdout",
     "output_type": "stream",
     "text": [
      "2\n",
      "4\n",
      "6\n",
      "8\n",
      "10\n"
     ]
    }
   ],
   "source": [
    "for no in integers:\n",
    "    print(no + no)"
   ]
  },
  {
   "cell_type": "code",
   "execution_count": 9,
   "id": "a17131a1-5441-4e30-bd1f-98f566e5aa34",
   "metadata": {},
   "outputs": [
    {
     "name": "stdout",
     "output_type": "stream",
     "text": [
      "sonali\n",
      "1\n",
      "['panipuri', 'kulfi']\n"
     ]
    }
   ],
   "source": [
    "info_dict = {'name': 'sonali', 'weekly intake': 1, 'favorite food': ['panipuri', 'kulfi']}\n",
    "for data in info_dict.values():\n",
    "    print(data)\n"
   ]
  },
  {
   "cell_type": "code",
   "execution_count": 10,
   "id": "288f1bcf-6be9-489f-9e88-8b390ce62ee6",
   "metadata": {},
   "outputs": [
    {
     "data": {
      "text/plain": [
       "{'name': 'sonali', 'weekly intake': 1, 'favorite food': 'panipuri'}"
      ]
     },
     "execution_count": 10,
     "metadata": {},
     "output_type": "execute_result"
    }
   ],
   "source": [
    "new_dict = {'name': 'sonali', 'weekly intake': 1, 'favorite food':'panipuri'}\n",
    "new_dict"
   ]
  },
  {
   "cell_type": "code",
   "execution_count": 11,
   "id": "98610bea-25bc-47f6-be34-f18686aacbdb",
   "metadata": {},
   "outputs": [
    {
     "name": "stdout",
     "output_type": "stream",
     "text": [
      "name -> sonali\n",
      "weekly intake -> 1\n",
      "favorite food -> panipuri\n"
     ]
    }
   ],
   "source": [
    "for key,value in new_dict.items():\n",
    "    print(key,'->',value)"
   ]
  },
  {
   "cell_type": "code",
   "execution_count": 13,
   "id": "2d65bb21-1bcd-4465-bb86-8eb74f8628fb",
   "metadata": {},
   "outputs": [
    {
     "name": "stdout",
     "output_type": "stream",
     "text": [
      "name -> sonali\n",
      "weekly intake -> 1\n",
      "favorite food -> ['panipuri', 'kulfi']\n"
     ]
    }
   ],
   "source": [
    "info_dict = {'name': 'sonali', 'weekly intake': 1, 'favorite food': ['panipuri', 'kulfi']}\n",
    "for key,value in info_dict.items():\n",
    "    print(key, '->', value)"
   ]
  },
  {
   "cell_type": "code",
   "execution_count": 15,
   "id": "d4b86e2b-d1f8-4bf0-930f-6ad91c4ed75a",
   "metadata": {},
   "outputs": [
    {
     "name": "stdout",
     "output_type": "stream",
     "text": [
      "Hot Fudge added on Vanilla\n",
      "Oreos added on Vanilla\n",
      "Marshmallows added on Vanilla\n",
      "Hot Fudge added on Chocolate\n",
      "Oreos added on Chocolate\n",
      "Marshmallows added on Chocolate\n",
      "Hot Fudge added on Cookie Dough\n",
      "Oreos added on Cookie Dough\n",
      "Marshmallows added on Cookie Dough\n"
     ]
    }
   ],
   "source": [
    "# Nested for loops\n",
    "flavors = ['Vanilla', 'Chocolate', 'Cookie Dough']\n",
    "toppings = ['Hot Fudge', 'Oreos', 'Marshmallows']\n",
    "for item1 in flavors:\n",
    "    for item2 in toppings:\n",
    "        print(item2,'added on', item1)"
   ]
  },
  {
   "cell_type": "code",
   "execution_count": null,
   "id": "83abfbee-a84e-4aa0-b364-c476923d70a2",
   "metadata": {},
   "outputs": [],
   "source": []
  }
 ],
 "metadata": {
  "kernelspec": {
   "display_name": "Python [conda env:base] *",
   "language": "python",
   "name": "conda-base-py"
  },
  "language_info": {
   "codemirror_mode": {
    "name": "ipython",
    "version": 3
   },
   "file_extension": ".py",
   "mimetype": "text/x-python",
   "name": "python",
   "nbconvert_exporter": "python",
   "pygments_lexer": "ipython3",
   "version": "3.13.5"
  }
 },
 "nbformat": 4,
 "nbformat_minor": 5
}
