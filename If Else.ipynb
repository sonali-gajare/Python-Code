{
 "cells": [
  {
   "cell_type": "code",
   "execution_count": 6,
   "id": "53c57d95-e790-43a7-ba6f-84f616666495",
   "metadata": {},
   "outputs": [
    {
     "name": "stdout",
     "output_type": "stream",
     "text": [
      "it worked\n"
     ]
    }
   ],
   "source": [
    "if 50 > 20:\n",
    "    print('it worked!')"
   ]
  },
  {
   "cell_type": "code",
   "execution_count": 8,
   "id": "f3250ec8-0405-4bfc-9104-bb7cd4c696d3",
   "metadata": {},
   "outputs": [
    {
     "name": "stdout",
     "output_type": "stream",
     "text": [
      "it did not worked...\n"
     ]
    }
   ],
   "source": [
    "if 50 < 20:\n",
    "    print('it worked....')\n",
    "else:\n",
    "    print('it did not worked...')\n",
    "    "
   ]
  },
  {
   "cell_type": "code",
   "execution_count": 9,
   "id": "3766ebe1-cfde-4738-aaf1-3503b121b63d",
   "metadata": {},
   "outputs": [
    {
     "name": "stdout",
     "output_type": "stream",
     "text": [
      "It worked!\n"
     ]
    }
   ],
   "source": [
    "if (25 < 10) or (1 < 3):\n",
    "    print('It worked!')\n",
    "elif 25 < 20:\n",
    "    print('elif worked!')\n",
    "elif 25 < 21:\n",
    "    print('elif 2 worked!')\n",
    "elif 25 < 40:\n",
    "    print('elif 3 worked!')\n",
    "elif 25 < 50:\n",
    "    print('elif 4 worked!')\n",
    "else:\n",
    "    print('It did not work...')"
   ]
  },
  {
   "cell_type": "code",
   "execution_count": 10,
   "id": "a0fd6128-adcf-4544-8370-d4201d83d0d7",
   "metadata": {},
   "outputs": [
    {
     "name": "stdout",
     "output_type": "stream",
     "text": [
      "it did not worked...\n"
     ]
    }
   ],
   "source": [
    "print('it worked..') if 10>30 else print('it did not worked...')"
   ]
  },
  {
   "cell_type": "code",
   "execution_count": 15,
   "id": "ea1e116f-abcf-4e1b-b2e1-2ebb3a4dcef4",
   "metadata": {},
   "outputs": [
    {
     "name": "stdout",
     "output_type": "stream",
     "text": [
      "it worked...\n",
      "nested if worked...\n"
     ]
    }
   ],
   "source": [
    "if (25<10) or (1<3):\n",
    "    print('it worked...')\n",
    "    if 10 > 5:\n",
    "             print('nested if worked...')"
   ]
  },
  {
   "cell_type": "code",
   "execution_count": null,
   "id": "33c2b5be-39f8-49c2-a413-5f53aa40b2b3",
   "metadata": {},
   "outputs": [],
   "source": []
  }
 ],
 "metadata": {
  "kernelspec": {
   "display_name": "Python [conda env:base] *",
   "language": "python",
   "name": "conda-base-py"
  },
  "language_info": {
   "codemirror_mode": {
    "name": "ipython",
    "version": 3
   },
   "file_extension": ".py",
   "mimetype": "text/x-python",
   "name": "python",
   "nbconvert_exporter": "python",
   "pygments_lexer": "ipython3",
   "version": "3.13.5"
  }
 },
 "nbformat": 4,
 "nbformat_minor": 5
}
