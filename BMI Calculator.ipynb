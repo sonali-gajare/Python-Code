{
 "cells": [
  {
   "cell_type": "code",
   "execution_count": null,
   "id": "8baeb547-e2c6-44b1-9b6d-5b0884215306",
   "metadata": {},
   "outputs": [],
   "source": [
    "#BMI = (weight in pounds x 703) / (height in inches x height in inches)\n",
    "Under 18.5\tUnderweight\tMinimal\n",
    "18.5 - 24.9\tNormal weight\tMinimal\n",
    "25 - 29.9\tOverweight\tIncreased\n",
    "30 - 34.9\tObese\tHigh\n",
    "35 - 39.9\tSeverely Obese\tVery High\n",
    "40 and over\tMorbidly Obese\tExtremely High"
   ]
  },
  {
   "cell_type": "code",
   "execution_count": 14,
   "id": "84a2ba51-fd29-4c43-9177-951ef92e198c",
   "metadata": {},
   "outputs": [
    {
     "name": "stdin",
     "output_type": "stream",
     "text": [
      "Enter your name:  Sonali\n",
      "Enter weight in pounds:  137\n",
      "Enter height in inches:  63\n"
     ]
    },
    {
     "name": "stdout",
     "output_type": "stream",
     "text": [
      "24.26581002771479\n",
      "Sonali, you are Normal weight\n"
     ]
    }
   ],
   "source": [
    "name = input(\"Enter your name: \")\n",
    "weight = int(input(\"Enter weight in pounds: \"))\n",
    "height = int(input(\"Enter height in inches: \"))\n",
    "BMI = (weight * 703) / (height * height)\n",
    "print(BMI)\n",
    "if BMI > 0:\n",
    "    if (BMI < 18.5):\n",
    "        print(name + \", you are Underweight\")\n",
    "    elif (BMI <= 24.9):\n",
    "        print(name + \", you are Normal weight\")\n",
    "    elif (BMI <= 29.9):\n",
    "        print(name + \", you are Overweight\")\n",
    "    elif (BMI <= 34.9):\n",
    "        print(name + \", you are Obese\")\n",
    "    elif (BMI <= 39.9):\n",
    "        print(name + \", you are Severely Obese\")\n",
    "    elif (BMI >= 40):\n",
    "        print(name + \", you are Morbidly Obese\")\n",
    "    else :\n",
    "        print(\"enter valid input\")\n"
   ]
  },
  {
   "cell_type": "code",
   "execution_count": null,
   "id": "0c7b207c-2fc9-4262-8a8c-82baaddc78f6",
   "metadata": {},
   "outputs": [],
   "source": []
  }
 ],
 "metadata": {
  "kernelspec": {
   "display_name": "Python [conda env:base] *",
   "language": "python",
   "name": "conda-base-py"
  },
  "language_info": {
   "codemirror_mode": {
    "name": "ipython",
    "version": 3
   },
   "file_extension": ".py",
   "mimetype": "text/x-python",
   "name": "python",
   "nbconvert_exporter": "python",
   "pygments_lexer": "ipython3",
   "version": "3.13.5"
  }
 },
 "nbformat": 4,
 "nbformat_minor": 5
}
