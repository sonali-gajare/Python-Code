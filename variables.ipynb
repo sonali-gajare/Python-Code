{
 "cells": [
  {
   "cell_type": "code",
   "execution_count": 4,
   "id": "752fe0cc-5665-4c40-9e89-c441d8a6f468",
   "metadata": {},
   "outputs": [
    {
     "name": "stdout",
     "output_type": "stream",
     "text": [
      "20\n"
     ]
    }
   ],
   "source": [
    "x=20\n",
    "print(x)"
   ]
  },
  {
   "cell_type": "code",
   "execution_count": 5,
   "id": "f2454f0b-b1dc-42c7-8179-dba8bd5dff03",
   "metadata": {},
   "outputs": [
    {
     "data": {
      "text/plain": [
       "int"
      ]
     },
     "execution_count": 5,
     "metadata": {},
     "output_type": "execute_result"
    }
   ],
   "source": [
    "type(x)"
   ]
  },
  {
   "cell_type": "code",
   "execution_count": 9,
   "id": "0fe634ae-2584-4367-8f79-0a3dfd4cb495",
   "metadata": {},
   "outputs": [
    {
     "name": "stdout",
     "output_type": "stream",
     "text": [
      "Tulsi jadhav\n"
     ]
    }
   ],
   "source": [
    "#case sensitivity\n",
    "y='Sonali Gajare'\n",
    "Y='Tulsi jadhav'\n",
    "print(Y)"
   ]
  },
  {
   "cell_type": "code",
   "execution_count": 10,
   "id": "a2c5599e-b17a-44d4-b60d-a32d40bec222",
   "metadata": {},
   "outputs": [
    {
     "data": {
      "text/plain": [
       "str"
      ]
     },
     "execution_count": 10,
     "metadata": {},
     "output_type": "execute_result"
    }
   ],
   "source": [
    "type(y)"
   ]
  },
  {
   "cell_type": "code",
   "execution_count": 11,
   "id": "c7137948-c60d-421d-a6ee-c7089ea9773c",
   "metadata": {},
   "outputs": [
    {
     "name": "stdout",
     "output_type": "stream",
     "text": [
      "sonali\n"
     ]
    }
   ],
   "source": [
    "p=\"sonali\"\n",
    "print(p)"
   ]
  },
  {
   "cell_type": "code",
   "execution_count": 12,
   "id": "965a5bcb-790d-40e2-b1d6-6ac199140fbb",
   "metadata": {},
   "outputs": [
    {
     "data": {
      "text/plain": [
       "str"
      ]
     },
     "execution_count": 12,
     "metadata": {},
     "output_type": "execute_result"
    }
   ],
   "source": [
    "type(p)"
   ]
  },
  {
   "cell_type": "code",
   "execution_count": 14,
   "id": "fcb4be67-3c23-4638-9bda-23984296e079",
   "metadata": {},
   "outputs": [
    {
     "name": "stdout",
     "output_type": "stream",
     "text": [
      "dog\n",
      "cat horse\n"
     ]
    }
   ],
   "source": [
    "#Assign multiple values to multiple variables\n",
    "\n",
    "x,y,z='dog','cat','horse'\n",
    "print(x)\n",
    "print(y,z)"
   ]
  },
  {
   "cell_type": "code",
   "execution_count": 16,
   "id": "3a14f53f-24ac-4f64-992c-1b196771af09",
   "metadata": {},
   "outputs": [
    {
     "name": "stdout",
     "output_type": "stream",
     "text": [
      "this is variable tutorial\n",
      "this is variable tutorial\n",
      "this is variable tutorial\n"
     ]
    }
   ],
   "source": [
    "#Assign one value to multiple variables\n",
    "\n",
    "x=y=z='this is variable tutorial'\n",
    "print(x)\n",
    "print(y)\n",
    "print(z)"
   ]
  },
  {
   "cell_type": "code",
   "execution_count": 19,
   "id": "be51bf60-3a62-4063-8e03-c1f8b04d0778",
   "metadata": {},
   "outputs": [
    {
     "name": "stdout",
     "output_type": "stream",
     "text": [
      "['dog', 'cat', 'chicken']\n",
      "dog\n",
      "cat\n",
      "chicken\n"
     ]
    }
   ],
   "source": [
    "animals = ['dog','cat','chicken']\n",
    "print(animals)\n",
    "x,y,z=animals\n",
    "print(x)\n",
    "print(y)\n",
    "print(z)"
   ]
  },
  {
   "cell_type": "code",
   "execution_count": 20,
   "id": "bcd47208-8fcd-4156-88bc-41e9acbee89f",
   "metadata": {},
   "outputs": [],
   "source": [
    "# Camel Case\n",
    "\n",
    "#Test Variable Case\n",
    "testVariableCase ='animal'"
   ]
  },
  {
   "cell_type": "code",
   "execution_count": null,
   "id": "83b86bf3-960a-4b66-aa57-a3a0d43cc8a0",
   "metadata": {},
   "outputs": [],
   "source": [
    "# Pascal Case\n",
    "\n",
    "#Test Variable Case\n",
    "TestVariableCase = 'animal'"
   ]
  },
  {
   "cell_type": "code",
   "execution_count": null,
   "id": "8c2f9f4d-fbc3-4f24-a2b7-0440190825c0",
   "metadata": {},
   "outputs": [],
   "source": [
    "# Snake Case\n",
    "\n",
    "#Test Variable Case\n",
    "test_variable_case ='animal'"
   ]
  },
  {
   "cell_type": "code",
   "execution_count": 21,
   "id": "33ac25e3-67d8-4e71-915a-bc68f9d97a74",
   "metadata": {},
   "outputs": [
    {
     "ename": "TypeError",
     "evalue": "can only concatenate str (not \"int\") to str",
     "output_type": "error",
     "traceback": [
      "\u001b[0;31m---------------------------------------------------------------------------\u001b[0m",
      "\u001b[0;31mTypeError\u001b[0m                                 Traceback (most recent call last)",
      "Cell \u001b[0;32mIn[21], line 1\u001b[0m\n\u001b[0;32m----> 1\u001b[0m x\u001b[38;5;241m=\u001b[39m\u001b[38;5;124m'\u001b[39m\u001b[38;5;124mnature is beautiful\u001b[39m\u001b[38;5;124m'\u001b[39m \u001b[38;5;241m+\u001b[39m \u001b[38;5;241m2\u001b[39m\n",
      "\u001b[0;31mTypeError\u001b[0m: can only concatenate str (not \"int\") to str"
     ]
    }
   ],
   "source": [
    "x='nature is beautiful' + 2"
   ]
  },
  {
   "cell_type": "code",
   "execution_count": 23,
   "id": "2e9a2a1b-12b9-4b16-a3fc-d00a8638e2b1",
   "metadata": {},
   "outputs": [
    {
     "name": "stdout",
     "output_type": "stream",
     "text": [
      "5\n"
     ]
    }
   ],
   "source": [
    "x= 3+2\n",
    "print(x)"
   ]
  },
  {
   "cell_type": "code",
   "execution_count": 26,
   "id": "45551ab7-eedf-4ac8-9912-3e4897abf315",
   "metadata": {},
   "outputs": [
    {
     "name": "stdout",
     "output_type": "stream",
     "text": [
      "nature is beautiful\n"
     ]
    }
   ],
   "source": [
    "x='nature'\n",
    "y=' is'\n",
    "z=' beautiful'\n",
    "print(x + y + z)"
   ]
  },
  {
   "cell_type": "code",
   "execution_count": 27,
   "id": "d574b890-5565-4f20-b901-0dc4c67d367f",
   "metadata": {},
   "outputs": [
    {
     "name": "stdout",
     "output_type": "stream",
     "text": [
      "6\n"
     ]
    }
   ],
   "source": [
    "x=1\n",
    "y=2\n",
    "z=3\n",
    "print(x+y+z)"
   ]
  },
  {
   "cell_type": "code",
   "execution_count": 28,
   "id": "0c7c0504-9109-4a8c-951a-fe432956d064",
   "metadata": {},
   "outputs": [
    {
     "name": "stdout",
     "output_type": "stream",
     "text": [
      "nature 2\n"
     ]
    }
   ],
   "source": [
    "x='nature'\n",
    "y=2\n",
    "print(x,y)"
   ]
  },
  {
   "cell_type": "code",
   "execution_count": null,
   "id": "75e57060-cc17-43cc-b8c9-b7d21473fb7e",
   "metadata": {},
   "outputs": [],
   "source": []
  }
 ],
 "metadata": {
  "kernelspec": {
   "display_name": "Python [conda env:base] *",
   "language": "python",
   "name": "conda-base-py"
  },
  "language_info": {
   "codemirror_mode": {
    "name": "ipython",
    "version": 3
   },
   "file_extension": ".py",
   "mimetype": "text/x-python",
   "name": "python",
   "nbconvert_exporter": "python",
   "pygments_lexer": "ipython3",
   "version": "3.13.5"
  }
 },
 "nbformat": 4,
 "nbformat_minor": 5
}
