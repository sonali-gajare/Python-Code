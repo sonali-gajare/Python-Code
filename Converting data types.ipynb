{
 "cells": [
  {
   "cell_type": "code",
   "execution_count": 4,
   "id": "bc335922-3dca-46ce-91a9-21863b983819",
   "metadata": {},
   "outputs": [
    {
     "data": {
      "text/plain": [
       "int"
      ]
     },
     "execution_count": 4,
     "metadata": {},
     "output_type": "execute_result"
    }
   ],
   "source": [
    "num_int = 5\n",
    "type(num_int)"
   ]
  },
  {
   "cell_type": "code",
   "execution_count": 8,
   "id": "fd607c72-f8ca-40fc-8184-3c7ca47ae892",
   "metadata": {},
   "outputs": [
    {
     "data": {
      "text/plain": [
       "str"
      ]
     },
     "execution_count": 8,
     "metadata": {},
     "output_type": "execute_result"
    }
   ],
   "source": [
    "num_str ='7'\n",
    "type(num_str)"
   ]
  },
  {
   "cell_type": "code",
   "execution_count": 9,
   "id": "6f3181ff-d6e3-4170-a5c7-e7812ae59521",
   "metadata": {},
   "outputs": [
    {
     "data": {
      "text/plain": [
       "7"
      ]
     },
     "execution_count": 9,
     "metadata": {},
     "output_type": "execute_result"
    }
   ],
   "source": [
    "int(num_str)"
   ]
  },
  {
   "cell_type": "code",
   "execution_count": 11,
   "id": "82e45c71-0d16-4fbd-8cf7-d9ed7e9a23b2",
   "metadata": {},
   "outputs": [
    {
     "data": {
      "text/plain": [
       "str"
      ]
     },
     "execution_count": 11,
     "metadata": {},
     "output_type": "execute_result"
    }
   ],
   "source": [
    "type(num_str)"
   ]
  },
  {
   "cell_type": "code",
   "execution_count": 12,
   "id": "33aa6787-12c2-48dd-a677-7d54122e5fa5",
   "metadata": {},
   "outputs": [
    {
     "data": {
      "text/plain": [
       "int"
      ]
     },
     "execution_count": 12,
     "metadata": {},
     "output_type": "execute_result"
    }
   ],
   "source": [
    "num_conv = int(num_str)\n",
    "type(num_conv)"
   ]
  },
  {
   "cell_type": "code",
   "execution_count": 13,
   "id": "246a40dd-30ea-42db-94d2-1c2e084985f5",
   "metadata": {},
   "outputs": [],
   "source": [
    "num_sum = num_int + num_conv"
   ]
  },
  {
   "cell_type": "code",
   "execution_count": 14,
   "id": "336ba4ae-2eba-4f8b-8852-106fdb499010",
   "metadata": {},
   "outputs": [
    {
     "name": "stdout",
     "output_type": "stream",
     "text": [
      "12\n"
     ]
    }
   ],
   "source": [
    "print(num_sum)"
   ]
  },
  {
   "cell_type": "code",
   "execution_count": 15,
   "id": "01ebb2d4-c290-45ae-ab86-314995bdf76d",
   "metadata": {},
   "outputs": [
    {
     "data": {
      "text/plain": [
       "int"
      ]
     },
     "execution_count": 15,
     "metadata": {},
     "output_type": "execute_result"
    }
   ],
   "source": [
    "type(num_sum)"
   ]
  },
  {
   "cell_type": "code",
   "execution_count": 16,
   "id": "bc8ebd49-78b9-406f-8565-5415a45bce9b",
   "metadata": {},
   "outputs": [
    {
     "data": {
      "text/plain": [
       "tuple"
      ]
     },
     "execution_count": 16,
     "metadata": {},
     "output_type": "execute_result"
    }
   ],
   "source": [
    "list_type = [1,2,3]\n",
    "tuple(list_type)\n",
    "type(tuple(list_type))"
   ]
  },
  {
   "cell_type": "code",
   "execution_count": 17,
   "id": "2efe9201-fe6a-427c-bacc-3b5d169cfade",
   "metadata": {},
   "outputs": [
    {
     "name": "stdout",
     "output_type": "stream",
     "text": [
      "(1, 2, 3)\n"
     ]
    }
   ],
   "source": [
    "print(tuple(list_type))"
   ]
  },
  {
   "cell_type": "code",
   "execution_count": 18,
   "id": "0d6be8b8-a9d6-4848-a2c7-a67a950de6d0",
   "metadata": {},
   "outputs": [
    {
     "data": {
      "text/plain": [
       "{1, 2, 3, 4}"
      ]
     },
     "execution_count": 18,
     "metadata": {},
     "output_type": "execute_result"
    }
   ],
   "source": [
    "list_type = [1,2,3,4,1,4,3,2,1,3]\n",
    "set(list_type)"
   ]
  },
  {
   "cell_type": "code",
   "execution_count": 19,
   "id": "63fb8ccd-054d-43f6-a76f-c59804aefb2b",
   "metadata": {},
   "outputs": [
    {
     "data": {
      "text/plain": [
       "dict"
      ]
     },
     "execution_count": 19,
     "metadata": {},
     "output_type": "execute_result"
    }
   ],
   "source": [
    "dict_type = {'name': 'Alex','age': 28, 'hair': 'N/A'}\n",
    "\n",
    "type(dict_type)"
   ]
  },
  {
   "cell_type": "code",
   "execution_count": 20,
   "id": "e41ffdf6-b8a5-48bf-b41f-88c8cc573bf9",
   "metadata": {},
   "outputs": [
    {
     "data": {
      "text/plain": [
       "dict_items([('name', 'Alex'), ('age', 28), ('hair', 'N/A')])"
      ]
     },
     "execution_count": 20,
     "metadata": {},
     "output_type": "execute_result"
    }
   ],
   "source": [
    "dict_type.items()"
   ]
  },
  {
   "cell_type": "code",
   "execution_count": 21,
   "id": "bd10fab4-7527-4288-891e-b01500bfe155",
   "metadata": {},
   "outputs": [
    {
     "data": {
      "text/plain": [
       "dict_keys(['name', 'age', 'hair'])"
      ]
     },
     "execution_count": 21,
     "metadata": {},
     "output_type": "execute_result"
    }
   ],
   "source": [
    "dict_type.keys()"
   ]
  },
  {
   "cell_type": "code",
   "execution_count": 22,
   "id": "805f8b19-de28-4eda-9b01-3fddb71886c7",
   "metadata": {},
   "outputs": [
    {
     "data": {
      "text/plain": [
       "dict_values(['Alex', 28, 'N/A'])"
      ]
     },
     "execution_count": 22,
     "metadata": {},
     "output_type": "execute_result"
    }
   ],
   "source": [
    "dict_type.values()"
   ]
  },
  {
   "cell_type": "code",
   "execution_count": 24,
   "id": "45e14fa2-8f66-4d46-91fd-faa1dfc10e23",
   "metadata": {},
   "outputs": [
    {
     "data": {
      "text/plain": [
       "list"
      ]
     },
     "execution_count": 24,
     "metadata": {},
     "output_type": "execute_result"
    }
   ],
   "source": [
    "list(dict_type.values())\n",
    "type(list(dict_type.values()))"
   ]
  },
  {
   "cell_type": "code",
   "execution_count": 25,
   "id": "88bca4ea-2062-481b-b58f-59da9dbb5875",
   "metadata": {},
   "outputs": [
    {
     "data": {
      "text/plain": [
       "[('name', 'Alex'), ('age', 28), ('hair', 'N/A')]"
      ]
     },
     "execution_count": 25,
     "metadata": {},
     "output_type": "execute_result"
    }
   ],
   "source": [
    "list(dict_type.items())\n"
   ]
  },
  {
   "cell_type": "code",
   "execution_count": 26,
   "id": "c0a080aa-67ef-4fbb-97b9-1fe545d9a161",
   "metadata": {},
   "outputs": [
    {
     "data": {
      "text/plain": [
       "list"
      ]
     },
     "execution_count": 26,
     "metadata": {},
     "output_type": "execute_result"
    }
   ],
   "source": [
    "type(list(dict_type.items()))"
   ]
  },
  {
   "cell_type": "code",
   "execution_count": 28,
   "id": "f0042869-1984-4ec9-99c1-27a38c74746c",
   "metadata": {},
   "outputs": [
    {
     "data": {
      "text/plain": [
       "{' ', 'I', 'a', 'e', 'i', 'k', 'l', 'o', 'p', 'r', 't', 'y'}"
      ]
     },
     "execution_count": 28,
     "metadata": {},
     "output_type": "execute_result"
    }
   ],
   "source": [
    "long_str = \"I like to party\"\n",
    "set(long_str)\n"
   ]
  },
  {
   "cell_type": "code",
   "execution_count": 29,
   "id": "e42917da-ede7-48e2-925c-36afd3d8d245",
   "metadata": {},
   "outputs": [
    {
     "data": {
      "text/plain": [
       "['I', ' ', 'l', 'i', 'k', 'e', ' ', 't', 'o', ' ', 'p', 'a', 'r', 't', 'y']"
      ]
     },
     "execution_count": 29,
     "metadata": {},
     "output_type": "execute_result"
    }
   ],
   "source": [
    "long_str = \"I like to party\"\n",
    "list(long_str)"
   ]
  },
  {
   "cell_type": "code",
   "execution_count": null,
   "id": "6c1cfaa5-efa9-4e44-988b-1c4e8fd96a18",
   "metadata": {},
   "outputs": [],
   "source": []
  }
 ],
 "metadata": {
  "kernelspec": {
   "display_name": "Python [conda env:base] *",
   "language": "python",
   "name": "conda-base-py"
  },
  "language_info": {
   "codemirror_mode": {
    "name": "ipython",
    "version": 3
   },
   "file_extension": ".py",
   "mimetype": "text/x-python",
   "name": "python",
   "nbconvert_exporter": "python",
   "pygments_lexer": "ipython3",
   "version": "3.13.5"
  }
 },
 "nbformat": 4,
 "nbformat_minor": 5
}
